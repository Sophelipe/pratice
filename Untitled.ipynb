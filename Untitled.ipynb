{
 "cells": [
  {
   "cell_type": "code",
   "execution_count": null,
   "metadata": {},
   "outputs": [],
   "source": [
    "import tushare as ts"
   ]
  },
  {
   "cell_type": "code",
   "execution_count": null,
   "metadata": {},
   "outputs": [],
   "source": [
    "import os\n",
    "import pathlib\n",
    "import json\n",
    "import pickle\n",
    "import hashlib\n",
    "import pandas as pd"
   ]
  },
  {
   "cell_type": "code",
   "execution_count": null,
   "metadata": {},
   "outputs": [],
   "source": [
    "data_path = r'f:/tushare_data/'\n",
    "ts_token = 'debdb7c6cd68d63bafe547ed9de8eb26116272bf540958e605df73f7'\n",
    "\n",
    "def is_file_exist(file_name):\n",
    "    return os.path.exists(file_name)\n",
    "\n",
    "def create_dirs(dir_path):\n",
    "    os.makedirs(dir_path)\n",
    "    \n",
    "def dir_name(file_name):\n",
    "    return os.path.dirname(file_name)\n",
    "\n",
    "def base_name(file_name):\n",
    "    return os.path.basename(file_name)\n",
    "\n",
    "def prepare_file(file_name):\n",
    "    path = dir_name(file_name)\n",
    "    if not os.path.exists(path):\n",
    "        os.makedirs(path)\n",
    "\n",
    "def logger_decorate(func):\n",
    "    argnames = func.__code__.co_varnames[:func.__code__.co_argcount]\n",
    "    fname = func.__name__\n",
    "\n",
    "    def echo_func(*args,**kwargs):\n",
    "        print(\"==========================================\")\n",
    "        print(fname + '(' + ', '.join(\n",
    "            '%s=%r' % entry\n",
    "            for entry in list(zip(argnames,args)) + list(kwargs.items())) + ')')\n",
    "\n",
    "        response = func(*args, **kwargs)\n",
    "        print((\"return: %s\" % response))\n",
    "        return response\n",
    "\n",
    "    return echo_func\n",
    "\n",
    "class TuShareManager():\n",
    "    def __init__(self):\n",
    "        ts.set_token(ts_token)\n",
    "        self._pro_api = ts.pro_api(ts_token)\n",
    "    \n",
    "    def _prepare_file(self, method_name, *args, **kwargs):\n",
    "#         method_name = func.__name__\n",
    "#         argnames = func.__code__.co_varnames[:func.__code__.co_argcount]\n",
    "#        param_str =  ', '.join('%s=%r' % entry for entry in list(zip(argnames,args)) + list(kwargs.items()))\n",
    "        \n",
    "        base_file = pickle.dumps((method_name, args, sorted(kwargs.items()))) \n",
    "        md5 = hashlib.md5()\n",
    "        md5.update(base_file)\n",
    "        base_file = md5.hexdigest() + '.h5'\n",
    "        \n",
    "        path = os.path.join(data_path, method_name)\n",
    "        if not os.path.exists(path):\n",
    "            os.makedirs(path)\n",
    "        return os.path.join(path, base_file)\n",
    " \n",
    "    def __getattr__(self, method_name):\n",
    "        def inner_func(*args, **kwargs):\n",
    "            func = getattr(ts, method_name, None) or getattr(self._pro_api, method_name)\n",
    "            print(type(func))\n",
    "            df = None\n",
    "            save_file = self._prepare_file(method_name, *args, **kwargs)\n",
    "            if is_file_exist(save_file):\n",
    "                print(\"read from cache\")\n",
    "                df = pd.read_hdf(save_file, 'data')\n",
    "            else:\n",
    "                df = func(*args, **kwargs)\n",
    "                df.to_hdf(save_file,'data')\n",
    "            return df\n",
    "        \n",
    "        return inner_func\n",
    "    "
   ]
  },
  {
   "cell_type": "code",
   "execution_count": null,
   "metadata": {},
   "outputs": [],
   "source": [
    "tsm = TuShareManager()\n",
    "df = tsm.get_hist_data('000875')"
   ]
  },
  {
   "cell_type": "code",
   "execution_count": null,
   "metadata": {},
   "outputs": [],
   "source": [
    "tf = tsm.daily(ts_code='000001.SZ')"
   ]
  }
 ],
 "metadata": {
  "kernelspec": {
   "display_name": "Python 3",
   "language": "python",
   "name": "python3"
  },
  "language_info": {
   "codemirror_mode": {
    "name": "ipython",
    "version": 3
   },
   "file_extension": ".py",
   "mimetype": "text/x-python",
   "name": "python",
   "nbconvert_exporter": "python",
   "pygments_lexer": "ipython3",
   "version": "3.7.1"
  }
 },
 "nbformat": 4,
 "nbformat_minor": 2
}
