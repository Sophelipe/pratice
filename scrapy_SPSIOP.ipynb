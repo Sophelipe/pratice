{
 "cells": [
  {
   "cell_type": "code",
   "execution_count": null,
   "metadata": {},
   "outputs": [],
   "source": [
    "import requests\n",
    "import re"
   ]
  },
  {
   "cell_type": "code",
   "execution_count": null,
   "metadata": {},
   "outputs": [],
   "source": [
    "class SPSIOP(object):\n",
    "    _url_spsiop = r'https://www.marketwatch.com/investing/index/spsiop?countrycode=xx'\n",
    "    _url_162411 = r'http://www.fsfund.com/funds/162411/index.shtml'\n",
    "    \n",
    "    def __init__(self):\n",
    "        self._r_spsiop = requests.get(self._url_spsiop)\n",
    "    \n",
    "    def get_close_price(self):\n",
    "        pattern = r'(\\d+,)*\\d+(\\.\\d*)?'\n",
    "        item = \"<meta name=\\\"price\\\" content=\\\"(%s)\\\">\" % pattern\n",
    "        regex = re.compile(item)\n",
    "        serchObj = regex.search(self._r_spsiop.text)\n",
    "        str_price = serchObj.group(1)\n",
    "        str_price = re.sub(',', '', str_price)\n",
    "        return float(str_price)\n",
    "    \n",
    "    def get_open_price(self):\n",
    "        pattern = r'(\\d+,)*\\d+(\\.\\d*)?'\n",
    "        item = \"<span class=\\\"open-value\\\">(%s)</span></div>\" % pattern\n",
    "        regex = re.compile(item)\n",
    "        serchObj = regex.search(self._r_spsiop.text)\n",
    "        str_price_change = serchObj.group(1)\n",
    "        str_price_change = re.sub(',', '', str_price_change)\n",
    "        return float(str_price_change)\n",
    "    \n",
    "    def get_change_percent(self):\n",
    "        close_price = self.get_close_price()\n",
    "        open_price = self.get_open_price()\n",
    "        price_change = close_price - open_price\n",
    "        change_percent = price_change / open_price\n",
    "        print(\"open_price: %s, close_price: %s, price_change: %.2f, change_percent: %.2f%%\" %\n",
    "             (open_price, close_price, price_change, change_percent*100))\n",
    "        return change_percent"
   ]
  },
  {
   "cell_type": "code",
   "execution_count": null,
   "metadata": {},
   "outputs": [],
   "source": [
    "sp = SPSIOP()\n",
    "sp.get_change_percent()"
   ]
  },
  {
   "cell_type": "code",
   "execution_count": null,
   "metadata": {},
   "outputs": [],
   "source": [
    "sp.get_change_percent()"
   ]
  },
  {
   "cell_type": "code",
   "execution_count": null,
   "metadata": {},
   "outputs": [],
   "source": [
    "_url_162411 = r'http://www.fsfund.com/funds/162411/index.shtml'\n",
    "user_agent = r'Mozilla/5.0 (X11; Linux x86_64) AppleWebKit/537.36 (KHTML, like Gecko) Chrome/67.0.3396.99 Safari/537.36'\n",
    "\n",
    "headers = {\n",
    "    'Accept' : 'text/html,application/xhtml+xml,application/xml;q=0.9,image/webp,image/apng,*/*;q=0.8',\n",
    "    'Accept-Encoding' : 'gzip, deflate',\n",
    "    'Accept-Language': 'zh-CN,zh;q=0.9,en-US;q=0.8,en;q=0.7',\n",
    "    'Cache-Control' : 'max-age=0',\n",
    "    'Host' : 'www.fsfund.com',\n",
    "    'Proxy-Connection' : 'keep-alive',\n",
    "    'User-Agent' : user_agent,\n",
    "}\n",
    "#Cookie: JSESSIONID=25FD925B45AA7038EDD57ED2995B72BA; gr_user_id=8548204e-9863-41dd-b55e-68f2a14dec40; gr_session_id_89e75d03efd6e70b=e168bb9d-2dcd-4a1b-9b81-44aefdc01d97; Hm_lvt_fd4ef6903671372e7c2d79e3a7e1212a=1548402375; gr_session_id_89e75d03efd6e70b_e168bb9d-2dcd-4a1b-9b81-44aefdc01d97=true; Hm_lpvt_fd4ef6903671372e7c2d79e3a7e1212a=1548402427\n",
    "#If-Modified-Since: Fri, 25 Jan 2019 07:40:00 GMT\n",
    "#Upgrade-Insecure-Requests: 1\n",
    "r_162411 = requests.get(_url_162411)"
   ]
  },
  {
   "cell_type": "code",
   "execution_count": null,
   "metadata": {},
   "outputs": [],
   "source": [
    "content = r_162411.content.decode('utf-8')"
   ]
  },
  {
   "cell_type": "code",
   "execution_count": null,
   "metadata": {},
   "outputs": [],
   "source": [
    "# pattern = r'(\\d+)-(0?[[1-9]|1[0-2])-([0?[1-9]|[12][0-9]|3[01]])'\n",
    "pattern = r'(\\d+)-(0?[1-9]|1[0-2])-([12][0-9]|3[01]|0?[1-9])'\n",
    "item = '净值更新时间 : (%s)' % pattern\n",
    "regex = re.compile(item)\n",
    "serchObj = regex.search(content)\n",
    "str_price_change = serchObj.group(1)\n",
    "str_price_change = re.sub(',', '', str_price_change)\n",
    "\n",
    "str_price_change"
   ]
  }
 ],
 "metadata": {
  "kernelspec": {
   "display_name": "Python 3",
   "language": "python",
   "name": "python3"
  },
  "language_info": {
   "codemirror_mode": {
    "name": "ipython",
    "version": 3
   },
   "file_extension": ".py",
   "mimetype": "text/x-python",
   "name": "python",
   "nbconvert_exporter": "python",
   "pygments_lexer": "ipython3",
   "version": "3.7.1"
  }
 },
 "nbformat": 4,
 "nbformat_minor": 2
}
